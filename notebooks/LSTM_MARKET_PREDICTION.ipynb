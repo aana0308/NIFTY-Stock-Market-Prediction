{
 "cells": [
  {
   "cell_type": "code",
   "execution_count": 1,
   "metadata": {},
   "outputs": [],
   "source": [
    "import numpy as np\n",
    "import pandas as pd\n",
    "import matplotlib.pyplot as plt\n",
    "import pandas_datareader as data\n",
    "from keras.models import load_model"
   ]
  },
  {
   "cell_type": "code",
   "execution_count": 2,
   "metadata": {},
   "outputs": [
    {
     "data": {
      "text/html": [
       "<div>\n",
       "<style scoped>\n",
       "    .dataframe tbody tr th:only-of-type {\n",
       "        vertical-align: middle;\n",
       "    }\n",
       "\n",
       "    .dataframe tbody tr th {\n",
       "        vertical-align: top;\n",
       "    }\n",
       "\n",
       "    .dataframe thead th {\n",
       "        text-align: right;\n",
       "    }\n",
       "</style>\n",
       "<table border=\"1\" class=\"dataframe\">\n",
       "  <thead>\n",
       "    <tr style=\"text-align: right;\">\n",
       "      <th></th>\n",
       "      <th>High</th>\n",
       "      <th>Low</th>\n",
       "      <th>Open</th>\n",
       "      <th>Close</th>\n",
       "      <th>Volume</th>\n",
       "      <th>Adj Close</th>\n",
       "    </tr>\n",
       "  </thead>\n",
       "  <tbody>\n",
       "    <tr>\n",
       "      <th>count</th>\n",
       "      <td>2463.000000</td>\n",
       "      <td>2463.000000</td>\n",
       "      <td>2463.000000</td>\n",
       "      <td>2463.000000</td>\n",
       "      <td>2.463000e+03</td>\n",
       "      <td>2463.000000</td>\n",
       "    </tr>\n",
       "    <tr>\n",
       "      <th>mean</th>\n",
       "      <td>250.943406</td>\n",
       "      <td>242.668790</td>\n",
       "      <td>247.065067</td>\n",
       "      <td>246.756471</td>\n",
       "      <td>2.935485e+06</td>\n",
       "      <td>238.991990</td>\n",
       "    </tr>\n",
       "    <tr>\n",
       "      <th>std</th>\n",
       "      <td>104.119903</td>\n",
       "      <td>101.928865</td>\n",
       "      <td>103.249305</td>\n",
       "      <td>103.064328</td>\n",
       "      <td>2.887902e+06</td>\n",
       "      <td>102.378951</td>\n",
       "    </tr>\n",
       "    <tr>\n",
       "      <th>min</th>\n",
       "      <td>110.449997</td>\n",
       "      <td>105.000000</td>\n",
       "      <td>108.000000</td>\n",
       "      <td>108.000000</td>\n",
       "      <td>0.000000e+00</td>\n",
       "      <td>103.196381</td>\n",
       "    </tr>\n",
       "    <tr>\n",
       "      <th>25%</th>\n",
       "      <td>149.399994</td>\n",
       "      <td>143.709999</td>\n",
       "      <td>146.764999</td>\n",
       "      <td>146.300003</td>\n",
       "      <td>1.326630e+06</td>\n",
       "      <td>139.256584</td>\n",
       "    </tr>\n",
       "    <tr>\n",
       "      <th>50%</th>\n",
       "      <td>242.000000</td>\n",
       "      <td>232.699997</td>\n",
       "      <td>237.000000</td>\n",
       "      <td>237.000000</td>\n",
       "      <td>2.305175e+06</td>\n",
       "      <td>229.219864</td>\n",
       "    </tr>\n",
       "    <tr>\n",
       "      <th>75%</th>\n",
       "      <td>350.125000</td>\n",
       "      <td>337.299988</td>\n",
       "      <td>343.449997</td>\n",
       "      <td>344.474991</td>\n",
       "      <td>3.652405e+06</td>\n",
       "      <td>334.335052</td>\n",
       "    </tr>\n",
       "    <tr>\n",
       "      <th>max</th>\n",
       "      <td>452.350006</td>\n",
       "      <td>434.799988</td>\n",
       "      <td>450.000000</td>\n",
       "      <td>448.750000</td>\n",
       "      <td>6.260449e+07</td>\n",
       "      <td>438.315704</td>\n",
       "    </tr>\n",
       "  </tbody>\n",
       "</table>\n",
       "</div>"
      ],
      "text/plain": [
       "              High          Low         Open        Close        Volume  \\\n",
       "count  2463.000000  2463.000000  2463.000000  2463.000000  2.463000e+03   \n",
       "mean    250.943406   242.668790   247.065067   246.756471  2.935485e+06   \n",
       "std     104.119903   101.928865   103.249305   103.064328  2.887902e+06   \n",
       "min     110.449997   105.000000   108.000000   108.000000  0.000000e+00   \n",
       "25%     149.399994   143.709999   146.764999   146.300003  1.326630e+06   \n",
       "50%     242.000000   232.699997   237.000000   237.000000  2.305175e+06   \n",
       "75%     350.125000   337.299988   343.449997   344.474991  3.652405e+06   \n",
       "max     452.350006   434.799988   450.000000   448.750000  6.260449e+07   \n",
       "\n",
       "         Adj Close  \n",
       "count  2463.000000  \n",
       "mean    238.991990  \n",
       "std     102.378951  \n",
       "min     103.196381  \n",
       "25%     139.256584  \n",
       "50%     229.219864  \n",
       "75%     334.335052  \n",
       "max     438.315704  "
      ]
     },
     "execution_count": 2,
     "metadata": {},
     "output_type": "execute_result"
    }
   ],
   "source": [
    "start='2010-01-01'\n",
    "end='2020-01-01'\n",
    "df = data.DataReader('ADANIPORTS.NS','yahoo',start,end)\n",
    "df.head()\n",
    "df.describe()"
   ]
  },
  {
   "cell_type": "code",
   "execution_count": 3,
   "metadata": {},
   "outputs": [
    {
     "data": {
      "text/html": [
       "<div>\n",
       "<style scoped>\n",
       "    .dataframe tbody tr th:only-of-type {\n",
       "        vertical-align: middle;\n",
       "    }\n",
       "\n",
       "    .dataframe tbody tr th {\n",
       "        vertical-align: top;\n",
       "    }\n",
       "\n",
       "    .dataframe thead th {\n",
       "        text-align: right;\n",
       "    }\n",
       "</style>\n",
       "<table border=\"1\" class=\"dataframe\">\n",
       "  <thead>\n",
       "    <tr style=\"text-align: right;\">\n",
       "      <th></th>\n",
       "      <th>High</th>\n",
       "      <th>Low</th>\n",
       "      <th>Open</th>\n",
       "      <th>Close</th>\n",
       "      <th>Volume</th>\n",
       "      <th>Adj Close</th>\n",
       "    </tr>\n",
       "    <tr>\n",
       "      <th>Date</th>\n",
       "      <th></th>\n",
       "      <th></th>\n",
       "      <th></th>\n",
       "      <th></th>\n",
       "      <th></th>\n",
       "      <th></th>\n",
       "    </tr>\n",
       "  </thead>\n",
       "  <tbody>\n",
       "    <tr>\n",
       "      <th>2019-12-26</th>\n",
       "      <td>370.600006</td>\n",
       "      <td>362.100006</td>\n",
       "      <td>368.799988</td>\n",
       "      <td>363.649994</td>\n",
       "      <td>2503435.0</td>\n",
       "      <td>357.172729</td>\n",
       "    </tr>\n",
       "    <tr>\n",
       "      <th>2019-12-27</th>\n",
       "      <td>367.899994</td>\n",
       "      <td>362.799988</td>\n",
       "      <td>366.750000</td>\n",
       "      <td>363.700012</td>\n",
       "      <td>2146972.0</td>\n",
       "      <td>357.221863</td>\n",
       "    </tr>\n",
       "    <tr>\n",
       "      <th>2019-12-30</th>\n",
       "      <td>371.000000</td>\n",
       "      <td>363.750000</td>\n",
       "      <td>371.000000</td>\n",
       "      <td>365.950012</td>\n",
       "      <td>4732203.0</td>\n",
       "      <td>359.431763</td>\n",
       "    </tr>\n",
       "    <tr>\n",
       "      <th>2019-12-31</th>\n",
       "      <td>368.649994</td>\n",
       "      <td>364.899994</td>\n",
       "      <td>366.000000</td>\n",
       "      <td>366.000000</td>\n",
       "      <td>2043206.0</td>\n",
       "      <td>359.480896</td>\n",
       "    </tr>\n",
       "    <tr>\n",
       "      <th>2020-01-01</th>\n",
       "      <td>379.250000</td>\n",
       "      <td>366.000000</td>\n",
       "      <td>368.000000</td>\n",
       "      <td>377.649994</td>\n",
       "      <td>11377167.0</td>\n",
       "      <td>370.923370</td>\n",
       "    </tr>\n",
       "  </tbody>\n",
       "</table>\n",
       "</div>"
      ],
      "text/plain": [
       "                  High         Low        Open       Close      Volume  \\\n",
       "Date                                                                     \n",
       "2019-12-26  370.600006  362.100006  368.799988  363.649994   2503435.0   \n",
       "2019-12-27  367.899994  362.799988  366.750000  363.700012   2146972.0   \n",
       "2019-12-30  371.000000  363.750000  371.000000  365.950012   4732203.0   \n",
       "2019-12-31  368.649994  364.899994  366.000000  366.000000   2043206.0   \n",
       "2020-01-01  379.250000  366.000000  368.000000  377.649994  11377167.0   \n",
       "\n",
       "             Adj Close  \n",
       "Date                    \n",
       "2019-12-26  357.172729  \n",
       "2019-12-27  357.221863  \n",
       "2019-12-30  359.431763  \n",
       "2019-12-31  359.480896  \n",
       "2020-01-01  370.923370  "
      ]
     },
     "execution_count": 3,
     "metadata": {},
     "output_type": "execute_result"
    }
   ],
   "source": [
    "df.tail()"
   ]
  },
  {
   "cell_type": "code",
   "execution_count": 4,
   "metadata": {},
   "outputs": [
    {
     "data": {
      "text/html": [
       "<div>\n",
       "<style scoped>\n",
       "    .dataframe tbody tr th:only-of-type {\n",
       "        vertical-align: middle;\n",
       "    }\n",
       "\n",
       "    .dataframe tbody tr th {\n",
       "        vertical-align: top;\n",
       "    }\n",
       "\n",
       "    .dataframe thead th {\n",
       "        text-align: right;\n",
       "    }\n",
       "</style>\n",
       "<table border=\"1\" class=\"dataframe\">\n",
       "  <thead>\n",
       "    <tr style=\"text-align: right;\">\n",
       "      <th></th>\n",
       "      <th>Date</th>\n",
       "      <th>High</th>\n",
       "      <th>Low</th>\n",
       "      <th>Open</th>\n",
       "      <th>Close</th>\n",
       "      <th>Volume</th>\n",
       "      <th>Adj Close</th>\n",
       "    </tr>\n",
       "  </thead>\n",
       "  <tbody>\n",
       "    <tr>\n",
       "      <th>0</th>\n",
       "      <td>2010-01-04</td>\n",
       "      <td>112.559998</td>\n",
       "      <td>110.699997</td>\n",
       "      <td>111.000000</td>\n",
       "      <td>111.349998</td>\n",
       "      <td>1079040.0</td>\n",
       "      <td>104.207405</td>\n",
       "    </tr>\n",
       "    <tr>\n",
       "      <th>1</th>\n",
       "      <td>2010-01-05</td>\n",
       "      <td>116.699997</td>\n",
       "      <td>111.800003</td>\n",
       "      <td>111.959999</td>\n",
       "      <td>115.190002</td>\n",
       "      <td>2112500.0</td>\n",
       "      <td>107.801094</td>\n",
       "    </tr>\n",
       "    <tr>\n",
       "      <th>2</th>\n",
       "      <td>2010-01-06</td>\n",
       "      <td>122.000000</td>\n",
       "      <td>113.070000</td>\n",
       "      <td>115.800003</td>\n",
       "      <td>120.900002</td>\n",
       "      <td>5761450.0</td>\n",
       "      <td>113.144814</td>\n",
       "    </tr>\n",
       "    <tr>\n",
       "      <th>3</th>\n",
       "      <td>2010-01-07</td>\n",
       "      <td>123.209999</td>\n",
       "      <td>119.000000</td>\n",
       "      <td>121.489998</td>\n",
       "      <td>119.470001</td>\n",
       "      <td>3174260.0</td>\n",
       "      <td>111.806541</td>\n",
       "    </tr>\n",
       "    <tr>\n",
       "      <th>4</th>\n",
       "      <td>2010-01-08</td>\n",
       "      <td>121.699997</td>\n",
       "      <td>118.639999</td>\n",
       "      <td>119.400002</td>\n",
       "      <td>119.330002</td>\n",
       "      <td>1220560.0</td>\n",
       "      <td>111.675529</td>\n",
       "    </tr>\n",
       "  </tbody>\n",
       "</table>\n",
       "</div>"
      ],
      "text/plain": [
       "        Date        High         Low        Open       Close     Volume  \\\n",
       "0 2010-01-04  112.559998  110.699997  111.000000  111.349998  1079040.0   \n",
       "1 2010-01-05  116.699997  111.800003  111.959999  115.190002  2112500.0   \n",
       "2 2010-01-06  122.000000  113.070000  115.800003  120.900002  5761450.0   \n",
       "3 2010-01-07  123.209999  119.000000  121.489998  119.470001  3174260.0   \n",
       "4 2010-01-08  121.699997  118.639999  119.400002  119.330002  1220560.0   \n",
       "\n",
       "    Adj Close  \n",
       "0  104.207405  \n",
       "1  107.801094  \n",
       "2  113.144814  \n",
       "3  111.806541  \n",
       "4  111.675529  "
      ]
     },
     "execution_count": 4,
     "metadata": {},
     "output_type": "execute_result"
    }
   ],
   "source": [
    "df=df.reset_index()\n",
    "df.head()"
   ]
  },
  {
   "cell_type": "code",
   "execution_count": 5,
   "metadata": {},
   "outputs": [
    {
     "data": {
      "text/html": [
       "<div>\n",
       "<style scoped>\n",
       "    .dataframe tbody tr th:only-of-type {\n",
       "        vertical-align: middle;\n",
       "    }\n",
       "\n",
       "    .dataframe tbody tr th {\n",
       "        vertical-align: top;\n",
       "    }\n",
       "\n",
       "    .dataframe thead th {\n",
       "        text-align: right;\n",
       "    }\n",
       "</style>\n",
       "<table border=\"1\" class=\"dataframe\">\n",
       "  <thead>\n",
       "    <tr style=\"text-align: right;\">\n",
       "      <th></th>\n",
       "      <th>High</th>\n",
       "      <th>Low</th>\n",
       "      <th>Open</th>\n",
       "      <th>Close</th>\n",
       "      <th>Volume</th>\n",
       "    </tr>\n",
       "  </thead>\n",
       "  <tbody>\n",
       "    <tr>\n",
       "      <th>0</th>\n",
       "      <td>112.559998</td>\n",
       "      <td>110.699997</td>\n",
       "      <td>111.000000</td>\n",
       "      <td>111.349998</td>\n",
       "      <td>1079040.0</td>\n",
       "    </tr>\n",
       "    <tr>\n",
       "      <th>1</th>\n",
       "      <td>116.699997</td>\n",
       "      <td>111.800003</td>\n",
       "      <td>111.959999</td>\n",
       "      <td>115.190002</td>\n",
       "      <td>2112500.0</td>\n",
       "    </tr>\n",
       "    <tr>\n",
       "      <th>2</th>\n",
       "      <td>122.000000</td>\n",
       "      <td>113.070000</td>\n",
       "      <td>115.800003</td>\n",
       "      <td>120.900002</td>\n",
       "      <td>5761450.0</td>\n",
       "    </tr>\n",
       "    <tr>\n",
       "      <th>3</th>\n",
       "      <td>123.209999</td>\n",
       "      <td>119.000000</td>\n",
       "      <td>121.489998</td>\n",
       "      <td>119.470001</td>\n",
       "      <td>3174260.0</td>\n",
       "    </tr>\n",
       "    <tr>\n",
       "      <th>4</th>\n",
       "      <td>121.699997</td>\n",
       "      <td>118.639999</td>\n",
       "      <td>119.400002</td>\n",
       "      <td>119.330002</td>\n",
       "      <td>1220560.0</td>\n",
       "    </tr>\n",
       "  </tbody>\n",
       "</table>\n",
       "</div>"
      ],
      "text/plain": [
       "         High         Low        Open       Close     Volume\n",
       "0  112.559998  110.699997  111.000000  111.349998  1079040.0\n",
       "1  116.699997  111.800003  111.959999  115.190002  2112500.0\n",
       "2  122.000000  113.070000  115.800003  120.900002  5761450.0\n",
       "3  123.209999  119.000000  121.489998  119.470001  3174260.0\n",
       "4  121.699997  118.639999  119.400002  119.330002  1220560.0"
      ]
     },
     "execution_count": 5,
     "metadata": {},
     "output_type": "execute_result"
    }
   ],
   "source": [
    "df=df.drop(['Date','Adj Close'],axis=1)\n",
    "df.head()"
   ]
  },
  {
   "cell_type": "code",
   "execution_count": 6,
   "metadata": {},
   "outputs": [
    {
     "data": {
      "text/plain": [
       "[<matplotlib.lines.Line2D at 0x17eb329a9a0>]"
      ]
     },
     "execution_count": 6,
     "metadata": {},
     "output_type": "execute_result"
    },
    {
     "data": {
      "image/png": "[encoded data removed]",
      "text/plain": [
       "<Figure size 432x288 with 1 Axes>"
      ]
     },
     "metadata": {
      "needs_background": "light"
     },
     "output_type": "display_data"
    }
   ],
   "source": [
    "plt.plot(df.Close)"
   ]
  },
  {
   "cell_type": "code",
   "execution_count": 7,
   "metadata": {},
   "outputs": [
    {
     "data": {
      "text/plain": [
       "0              NaN\n",
       "1              NaN\n",
       "2              NaN\n",
       "3              NaN\n",
       "4              NaN\n",
       "           ...    \n",
       "2458    379.638502\n",
       "2459    379.537002\n",
       "2460    379.462002\n",
       "2461    379.346502\n",
       "2462    379.412002\n",
       "Name: Close, Length: 2463, dtype: float64"
      ]
     },
     "execution_count": 7,
     "metadata": {},
     "output_type": "execute_result"
    }
   ],
   "source": [
    "ma100=df.Close.rolling(100).mean()\n",
    "ma100"
   ]
  },
  {
   "cell_type": "code",
   "execution_count": 8,
   "metadata": {},
   "outputs": [
    {
     "data": {
      "text/plain": [
       "[<matplotlib.lines.Line2D at 0x17eb3198af0>]"
      ]
     },
     "execution_count": 8,
     "metadata": {},
     "output_type": "execute_result"
    },
    {
     "data": {
      "image/png": "[encoded data removed]",
      "text/plain": [
       "<Figure size 864x432 with 1 Axes>"
      ]
     },
     "metadata": {
      "needs_background": "light"
     },
     "output_type": "display_data"
    }
   ],
   "source": [
    "plt.figure(figsize= (12,6))\n",
    "plt.plot(df.Close)\n",
    "plt.plot(ma100,'r')"
   ]
  },
  {
   "cell_type": "code",
   "execution_count": 9,
   "metadata": {},
   "outputs": [
    {
     "data": {
      "text/plain": [
       "0             NaN\n",
       "1             NaN\n",
       "2             NaN\n",
       "3             NaN\n",
       "4             NaN\n",
       "          ...    \n",
       "2458    384.76400\n",
       "2459    384.95625\n",
       "2460    385.15675\n",
       "2461    385.32075\n",
       "2462    385.51275\n",
       "Name: Close, Length: 2463, dtype: float64"
      ]
     },
     "execution_count": 9,
     "metadata": {},
     "output_type": "execute_result"
    }
   ],
   "source": [
    "ma200=df.Close.rolling(200).mean()\n",
    "ma200"
   ]
  },
  {
   "cell_type": "code",
   "execution_count": 10,
   "metadata": {},
   "outputs": [
    {
     "data": {
      "text/plain": [
       "[<matplotlib.lines.Line2D at 0x17eb3211a00>]"
      ]
     },
     "execution_count": 10,
     "metadata": {},
     "output_type": "execute_result"
    },
    {
     "data": {
      "image/png": "[encoded data removed]",
      "text/plain": [
       "<Figure size 864x432 with 1 Axes>"
      ]
     },
     "metadata": {
      "needs_background": "light"
     },
     "output_type": "display_data"
    }
   ],
   "source": [
    "plt.figure(figsize= (12,6))\n",
    "plt.plot(df.Close)\n",
    "plt.plot(ma100,'r')\n",
    "plt.plot(ma200,'g')"
   ]
  },
  {
   "cell_type": "code",
   "execution_count": 11,
   "metadata": {},
   "outputs": [
    {
     "data": {
      "text/plain": [
       "(2463, 5)"
      ]
     },
     "execution_count": 11,
     "metadata": {},
     "output_type": "execute_result"
    }
   ],
   "source": [
    "df.shape"
   ]
  },
  {
   "cell_type": "code",
   "execution_count": 12,
   "metadata": {},
   "outputs": [
    {
     "name": "stdout",
     "output_type": "stream",
     "text": [
      "(1724, 1)\n",
      "(739, 1)\n"
     ]
    }
   ],
   "source": [
    "# Splitting the data set into training and testing data\n",
    "data_training=pd.DataFrame(df['Close'][0:int(len(df)*0.70)])\n",
    "data_testing=pd.DataFrame(df['Close'][int(len(df)*0.70):int(len(df))])\n",
    "\n",
    "print(data_training.shape)\n",
    "print(data_testing.shape)"
   ]
  },
  {
   "cell_type": "code",
   "execution_count": 13,
   "metadata": {},
   "outputs": [],
   "source": [
    "from sklearn.preprocessing import MinMaxScaler\n",
    "scaler=MinMaxScaler(feature_range=(0,1))"
   ]
  },
  {
   "cell_type": "code",
   "execution_count": 14,
   "metadata": {},
   "outputs": [
    {
     "data": {
      "text/plain": [
       "array([[0.01285741],\n",
       "       [0.02759548],\n",
       "       [0.04951066],\n",
       "       ...,\n",
       "       [0.61005573],\n",
       "       [0.61600463],\n",
       "       [0.60122818]])"
      ]
     },
     "execution_count": 14,
     "metadata": {},
     "output_type": "execute_result"
    }
   ],
   "source": [
    "data_training_array= scaler.fit_transform(data_training)\n",
    "data_training_array"
   ]
  },
  {
   "cell_type": "code",
   "execution_count": 15,
   "metadata": {},
   "outputs": [],
   "source": [
    "x_train=[]\n",
    "y_train=[]\n",
    "for  i in range(100, data_training_array.shape[0]):\n",
    "    x_train.append(data_training_array[i-100: i])\n",
    "    y_train.append(data_training_array[i,0])\n",
    "x_train, y_train=np.array(x_train),np.array(y_train)"
   ]
  },
  {
   "cell_type": "code",
   "execution_count": 16,
   "metadata": {},
   "outputs": [],
   "source": [
    "from keras.layers import Dense ,Dropout ,LSTM\n",
    "from keras.models import Sequential\n"
   ]
  },
  {
   "cell_type": "code",
   "execution_count": 17,
   "metadata": {},
   "outputs": [],
   "source": [
    "model=Sequential()\n",
    "model.add(LSTM(units=50,activation='relu',return_sequences=True,input_shape=(x_train.shape[1],1)))\n",
    "model.add(Dropout(0.2))\n",
    "\n",
    "model.add(LSTM(units=60,activation='relu',return_sequences=True))\n",
    "model.add(Dropout(0.3))\n",
    "\n",
    "model.add(LSTM(units=80,activation='relu',return_sequences=True))\n",
    "model.add(Dropout(0.4))\n",
    "\n",
    "model.add(LSTM(units=120,activation='relu'))\n",
    "model.add(Dropout(0.5))\n",
    "\n",
    "model.add(Dense(units=1))\n"
   ]
  },
  {
   "cell_type": "code",
   "execution_count": 18,
   "metadata": {},
   "outputs": [
    {
     "name": "stdout",
     "output_type": "stream",
     "text": [
      "Model: \"sequential\"\n",
      "_________________________________________________________________\n",
      " Layer (type)                Output Shape              Param #   \n",
      "=================================================================\n",
      " lstm (LSTM)                 (None, 100, 50)           10400     \n",
      "                                                                 \n",
      " dropout (Dropout)           (None, 100, 50)           0         \n",
      "                                                                 \n",
      " lstm_1 (LSTM)               (None, 100, 60)           26640     \n",
      "                                                                 \n",
      " dropout_1 (Dropout)         (None, 100, 60)           0         \n",
      "                                                                 \n",
      " lstm_2 (LSTM)               (None, 100, 80)           45120     \n",
      "                                                                 \n",
      " dropout_2 (Dropout)         (None, 100, 80)           0         \n",
      "                                                                 \n",
      " lstm_3 (LSTM)               (None, 120)               96480     \n",
      "                                                                 \n",
      " dropout_3 (Dropout)         (None, 120)               0         \n",
      "                                                                 \n",
      " dense (Dense)               (None, 1)                 121       \n",
      "                                                                 \n",
      "=================================================================\n",
      "Total params: 178,761\n",
      "Trainable params: 178,761\n",
      "Non-trainable params: 0\n",
      "_________________________________________________________________\n"
     ]
    }
   ],
   "source": [
    "model.summary()"
   ]
  },
  {
   "cell_type": "code",
   "execution_count": 19,
   "metadata": {},
   "outputs": [
    {
     "name": "stdout",
     "output_type": "stream",
     "text": [
      "Epoch 1/50\n",
      "51/51 [==============================] - 25s 344ms/step - loss: 0.0390\n",
      "Epoch 2/50\n",
      "51/51 [==============================] - 15s 287ms/step - loss: 0.0102\n",
      "Epoch 3/50\n",
      "51/51 [==============================] - 12s 242ms/step - loss: 0.0090\n",
      "Epoch 4/50\n",
      "51/51 [==============================] - 11s 213ms/step - loss: 0.0074\n",
      "Epoch 5/50\n",
      "51/51 [==============================] - 13s 264ms/step - loss: 0.0070\n",
      "Epoch 6/50\n",
      "51/51 [==============================] - 17s 323ms/step - loss: 0.0071\n",
      "Epoch 7/50\n",
      "51/51 [==============================] - 17s 324ms/step - loss: 0.0067\n",
      "Epoch 8/50\n",
      "51/51 [==============================] - 16s 304ms/step - loss: 0.0062\n",
      "Epoch 9/50\n",
      "51/51 [==============================] - 16s 323ms/step - loss: 0.0063\n",
      "Epoch 10/50\n",
      "51/51 [==============================] - 16s 324ms/step - loss: 0.0063\n",
      "Epoch 11/50\n",
      "51/51 [==============================] - 17s 326ms/step - loss: 0.0060\n",
      "Epoch 12/50\n",
      "51/51 [==============================] - 16s 321ms/step - loss: 0.0053\n",
      "Epoch 13/50\n",
      "51/51 [==============================] - 17s 325ms/step - loss: 0.0051\n",
      "Epoch 14/50\n",
      "51/51 [==============================] - 17s 328ms/step - loss: 0.0055\n",
      "Epoch 15/50\n",
      "51/51 [==============================] - 17s 327ms/step - loss: 0.0053\n",
      "Epoch 16/50\n",
      "51/51 [==============================] - 16s 315ms/step - loss: 0.0047\n",
      "Epoch 17/50\n",
      "51/51 [==============================] - 17s 329ms/step - loss: 0.0048\n",
      "Epoch 18/50\n",
      "51/51 [==============================] - 17s 325ms/step - loss: 0.0046\n",
      "Epoch 19/50\n",
      "51/51 [==============================] - 16s 320ms/step - loss: 0.0050\n",
      "Epoch 20/50\n",
      "51/51 [==============================] - 16s 323ms/step - loss: 0.0046\n",
      "Epoch 21/50\n",
      "51/51 [==============================] - 17s 328ms/step - loss: 0.0049\n",
      "Epoch 22/50\n",
      "51/51 [==============================] - 16s 323ms/step - loss: 0.0044\n",
      "Epoch 23/50\n",
      "51/51 [==============================] - 16s 322ms/step - loss: 0.0044\n",
      "Epoch 24/50\n",
      "51/51 [==============================] - 17s 325ms/step - loss: 0.0041\n",
      "Epoch 25/50\n",
      "51/51 [==============================] - 17s 326ms/step - loss: 0.0044\n",
      "Epoch 26/50\n",
      "51/51 [==============================] - 16s 317ms/step - loss: 0.0046\n",
      "Epoch 27/50\n",
      "51/51 [==============================] - 16s 314ms/step - loss: 0.0044\n",
      "Epoch 28/50\n",
      "51/51 [==============================] - 17s 325ms/step - loss: 0.0041\n",
      "Epoch 29/50\n",
      "51/51 [==============================] - 16s 317ms/step - loss: 0.0039\n",
      "Epoch 30/50\n",
      "51/51 [==============================] - 17s 324ms/step - loss: 0.0038\n",
      "Epoch 31/50\n",
      "51/51 [==============================] - 16s 318ms/step - loss: 0.0036\n",
      "Epoch 32/50\n",
      "51/51 [==============================] - 16s 320ms/step - loss: 0.0037\n",
      "Epoch 33/50\n",
      "51/51 [==============================] - 17s 325ms/step - loss: 0.0038\n",
      "Epoch 34/50\n",
      "51/51 [==============================] - 16s 316ms/step - loss: 0.0038\n",
      "Epoch 35/50\n",
      "51/51 [==============================] - 17s 324ms/step - loss: 0.0038\n",
      "Epoch 36/50\n",
      "51/51 [==============================] - 16s 315ms/step - loss: 0.0037\n",
      "Epoch 37/50\n",
      "51/51 [==============================] - 16s 321ms/step - loss: 0.0037\n",
      "Epoch 38/50\n",
      "51/51 [==============================] - 16s 312ms/step - loss: 0.0037\n",
      "Epoch 39/50\n",
      "51/51 [==============================] - 17s 325ms/step - loss: 0.0039\n",
      "Epoch 40/50\n",
      "51/51 [==============================] - 16s 321ms/step - loss: 0.0033\n",
      "Epoch 41/50\n",
      "51/51 [==============================] - 17s 325ms/step - loss: 0.0034\n",
      "Epoch 42/50\n",
      "51/51 [==============================] - 15s 302ms/step - loss: 0.0038\n",
      "Epoch 43/50\n",
      "51/51 [==============================] - 13s 257ms/step - loss: 0.0036\n",
      "Epoch 44/50\n",
      "51/51 [==============================] - 16s 322ms/step - loss: 0.0033\n",
      "Epoch 45/50\n",
      "51/51 [==============================] - 16s 323ms/step - loss: 0.0033\n",
      "Epoch 46/50\n",
      "51/51 [==============================] - 61s 1s/step - loss: 0.0033\n",
      "Epoch 47/50\n",
      "51/51 [==============================] - 12s 227ms/step - loss: 0.0036\n",
      "Epoch 48/50\n",
      "51/51 [==============================] - 8s 158ms/step - loss: 0.0032\n",
      "Epoch 49/50\n",
      "51/51 [==============================] - 8s 159ms/step - loss: 0.0032\n",
      "Epoch 50/50\n",
      "51/51 [==============================] - 8s 159ms/step - loss: 0.0033\n"
     ]
    },
    {
     "data": {
      "text/plain": [
       "<keras.callbacks.History at 0x17eb7357c10>"
      ]
     },
     "execution_count": 19,
     "metadata": {},
     "output_type": "execute_result"
    }
   ],
   "source": [
    "model.compile(optimizer='adam',loss='mean_squared_error')\n",
    "model.fit(x_train,y_train,epochs=50)"
   ]
  },
  {
   "cell_type": "code",
   "execution_count": 20,
   "metadata": {},
   "outputs": [],
   "source": [
    "model.save('keras_model.h5')"
   ]
  },
  {
   "cell_type": "code",
   "execution_count": 21,
   "metadata": {},
   "outputs": [
    {
     "data": {
      "text/html": [
       "<div>\n",
       "<style scoped>\n",
       "    .dataframe tbody tr th:only-of-type {\n",
       "        vertical-align: middle;\n",
       "    }\n",
       "\n",
       "    .dataframe tbody tr th {\n",
       "        vertical-align: top;\n",
       "    }\n",
       "\n",
       "    .dataframe thead th {\n",
       "        text-align: right;\n",
       "    }\n",
       "</style>\n",
       "<table border=\"1\" class=\"dataframe\">\n",
       "  <thead>\n",
       "    <tr style=\"text-align: right;\">\n",
       "      <th></th>\n",
       "      <th>Close</th>\n",
       "    </tr>\n",
       "  </thead>\n",
       "  <tbody>\n",
       "    <tr>\n",
       "      <th>1724</th>\n",
       "      <td>268.450012</td>\n",
       "    </tr>\n",
       "    <tr>\n",
       "      <th>1725</th>\n",
       "      <td>273.799988</td>\n",
       "    </tr>\n",
       "    <tr>\n",
       "      <th>1726</th>\n",
       "      <td>273.950012</td>\n",
       "    </tr>\n",
       "    <tr>\n",
       "      <th>1727</th>\n",
       "      <td>274.899994</td>\n",
       "    </tr>\n",
       "    <tr>\n",
       "      <th>1728</th>\n",
       "      <td>287.500000</td>\n",
       "    </tr>\n",
       "  </tbody>\n",
       "</table>\n",
       "</div>"
      ],
      "text/plain": [
       "           Close\n",
       "1724  268.450012\n",
       "1725  273.799988\n",
       "1726  273.950012\n",
       "1727  274.899994\n",
       "1728  287.500000"
      ]
     },
     "execution_count": 21,
     "metadata": {},
     "output_type": "execute_result"
    }
   ],
   "source": [
    "data_testing.head()"
   ]
  },
  {
   "cell_type": "code",
   "execution_count": 22,
   "metadata": {},
   "outputs": [
    {
     "data": {
      "text/html": [
       "<div>\n",
       "<style scoped>\n",
       "    .dataframe tbody tr th:only-of-type {\n",
       "        vertical-align: middle;\n",
       "    }\n",
       "\n",
       "    .dataframe tbody tr th {\n",
       "        vertical-align: top;\n",
       "    }\n",
       "\n",
       "    .dataframe thead th {\n",
       "        text-align: right;\n",
       "    }\n",
       "</style>\n",
       "<table border=\"1\" class=\"dataframe\">\n",
       "  <thead>\n",
       "    <tr style=\"text-align: right;\">\n",
       "      <th></th>\n",
       "      <th>Close</th>\n",
       "    </tr>\n",
       "  </thead>\n",
       "  <tbody>\n",
       "    <tr>\n",
       "      <th>1719</th>\n",
       "      <td>262.899994</td>\n",
       "    </tr>\n",
       "    <tr>\n",
       "      <th>1720</th>\n",
       "      <td>260.000000</td>\n",
       "    </tr>\n",
       "    <tr>\n",
       "      <th>1721</th>\n",
       "      <td>266.950012</td>\n",
       "    </tr>\n",
       "    <tr>\n",
       "      <th>1722</th>\n",
       "      <td>268.500000</td>\n",
       "    </tr>\n",
       "    <tr>\n",
       "      <th>1723</th>\n",
       "      <td>264.649994</td>\n",
       "    </tr>\n",
       "  </tbody>\n",
       "</table>\n",
       "</div>"
      ],
      "text/plain": [
       "           Close\n",
       "1719  262.899994\n",
       "1720  260.000000\n",
       "1721  266.950012\n",
       "1722  268.500000\n",
       "1723  264.649994"
      ]
     },
     "execution_count": 22,
     "metadata": {},
     "output_type": "execute_result"
    }
   ],
   "source": [
    "data_training.tail()"
   ]
  },
  {
   "cell_type": "code",
   "execution_count": 23,
   "metadata": {},
   "outputs": [],
   "source": [
    "past_100_days=data_training.tail(100)"
   ]
  },
  {
   "cell_type": "code",
   "execution_count": 24,
   "metadata": {},
   "outputs": [
    {
     "name": "stderr",
     "output_type": "stream",
     "text": [
      "C:\\Users\\TASHMOY GHOSH\\AppData\\Local\\Temp\\ipykernel_21916\\3595571042.py:1: FutureWarning: The frame.append method is deprecated and will be removed from pandas in a future version. Use pandas.concat instead.\n",
      "  final_df=past_100_days.append(data_testing,ignore_index=True)\n"
     ]
    }
   ],
   "source": [
    "final_df=past_100_days.append(data_testing,ignore_index=True)"
   ]
  },
  {
   "cell_type": "code",
   "execution_count": 25,
   "metadata": {},
   "outputs": [
    {
     "data": {
      "text/html": [
       "<div>\n",
       "<style scoped>\n",
       "    .dataframe tbody tr th:only-of-type {\n",
       "        vertical-align: middle;\n",
       "    }\n",
       "\n",
       "    .dataframe tbody tr th {\n",
       "        vertical-align: top;\n",
       "    }\n",
       "\n",
       "    .dataframe thead th {\n",
       "        text-align: right;\n",
       "    }\n",
       "</style>\n",
       "<table border=\"1\" class=\"dataframe\">\n",
       "  <thead>\n",
       "    <tr style=\"text-align: right;\">\n",
       "      <th></th>\n",
       "      <th>Close</th>\n",
       "    </tr>\n",
       "  </thead>\n",
       "  <tbody>\n",
       "    <tr>\n",
       "      <th>0</th>\n",
       "      <td>222.850006</td>\n",
       "    </tr>\n",
       "    <tr>\n",
       "      <th>1</th>\n",
       "      <td>227.899994</td>\n",
       "    </tr>\n",
       "    <tr>\n",
       "      <th>2</th>\n",
       "      <td>234.000000</td>\n",
       "    </tr>\n",
       "    <tr>\n",
       "      <th>3</th>\n",
       "      <td>240.649994</td>\n",
       "    </tr>\n",
       "    <tr>\n",
       "      <th>4</th>\n",
       "      <td>239.750000</td>\n",
       "    </tr>\n",
       "  </tbody>\n",
       "</table>\n",
       "</div>"
      ],
      "text/plain": [
       "        Close\n",
       "0  222.850006\n",
       "1  227.899994\n",
       "2  234.000000\n",
       "3  240.649994\n",
       "4  239.750000"
      ]
     },
     "execution_count": 25,
     "metadata": {},
     "output_type": "execute_result"
    }
   ],
   "source": [
    "final_df.head()"
   ]
  },
  {
   "cell_type": "code",
   "execution_count": 27,
   "metadata": {},
   "outputs": [
    {
     "data": {
      "text/plain": [
       "array([[0.        ],\n",
       "       [0.02235497],\n",
       "       [0.0493581 ],\n",
       "       [0.07879588],\n",
       "       [0.07481184],\n",
       "       [0.15759189],\n",
       "       [0.13567948],\n",
       "       [0.15670648],\n",
       "       [0.22443552],\n",
       "       [0.19831779]])"
      ]
     },
     "execution_count": 27,
     "metadata": {},
     "output_type": "execute_result"
    }
   ],
   "source": [
    "input_data=scaler.fit_transform(final_df)\n",
    "input_data[:10]"
   ]
  },
  {
   "cell_type": "code",
   "execution_count": 28,
   "metadata": {},
   "outputs": [
    {
     "data": {
      "text/plain": [
       "(839, 1)"
      ]
     },
     "execution_count": 28,
     "metadata": {},
     "output_type": "execute_result"
    }
   ],
   "source": [
    "input_data.shape"
   ]
  },
  {
   "cell_type": "code",
   "execution_count": 29,
   "metadata": {},
   "outputs": [
    {
     "name": "stdout",
     "output_type": "stream",
     "text": [
      "(739, 100, 1)\n",
      "(739,)\n"
     ]
    }
   ],
   "source": [
    "x_test=[]\n",
    "y_test=[]\n",
    "for  i in range(100, input_data.shape[0]):\n",
    "    x_test.append(input_data[i-100: i])\n",
    "    y_test.append(input_data[i,0])\n",
    "x_test, y_test=np.array(x_test),np.array(y_test)\n",
    "print(x_test.shape)\n",
    "print(y_test.shape)\n"
   ]
  },
  {
   "cell_type": "code",
   "execution_count": 30,
   "metadata": {},
   "outputs": [
    {
     "data": {
      "text/plain": [
       "(739, 1)"
      ]
     },
     "execution_count": 30,
     "metadata": {},
     "output_type": "execute_result"
    }
   ],
   "source": [
    "y_predicted=model.predict(x_test)\n",
    "y_predicted.shape"
   ]
  },
  {
   "cell_type": "code",
   "execution_count": 31,
   "metadata": {},
   "outputs": [
    {
     "data": {
      "text/plain": [
       "(739,)"
      ]
     },
     "execution_count": 31,
     "metadata": {},
     "output_type": "execute_result"
    }
   ],
   "source": [
    "y_test.shape"
   ]
  },
  {
   "cell_type": "code",
   "execution_count": 32,
   "metadata": {},
   "outputs": [
    {
     "data": {
      "text/plain": [
       "(739, 1)"
      ]
     },
     "execution_count": 32,
     "metadata": {},
     "output_type": "execute_result"
    }
   ],
   "source": [
    "y_predicted.shape"
   ]
  },
  {
   "cell_type": "code",
   "execution_count": 36,
   "metadata": {},
   "outputs": [
    {
     "data": {
      "text/plain": [
       "array([0.00442674])"
      ]
     },
     "execution_count": 36,
     "metadata": {},
     "output_type": "execute_result"
    }
   ],
   "source": [
    "scalar=scaler.scale_\n",
    "scalar"
   ]
  },
  {
   "cell_type": "code",
   "execution_count": 34,
   "metadata": {},
   "outputs": [],
   "source": [
    "scale_factor=1/(scalar[0])\n",
    "y_predicted=y_predicted*scale_factor\n",
    "y_test=y_test*scale_factor"
   ]
  },
  {
   "cell_type": "code",
   "execution_count": 35,
   "metadata": {},
   "outputs": [
    {
     "data": {
      "image/png": "[encoded data removed]",
      "text/plain": [
       "<Figure size 864x432 with 1 Axes>"
      ]
     },
     "metadata": {
      "needs_background": "light"
     },
     "output_type": "display_data"
    }
   ],
   "source": [
    "plt.figure(figsize=(12,6))\n",
    "plt.plot(y_test,'b',label='Original Price')\n",
    "plt.plot(y_predicted,'g',label='Predicted Price')\n",
    "plt.xlabel('Time')\n",
    "plt.ylabel('Price')\n",
    "plt.legend()\n",
    "plt.show()"
   ]
  }
 ],
 "metadata": {
  "interpreter": {
   "hash": "9a1a4feb060f566bd339f14e7294808cc99ae69d804ee3290ecb11606c62068a"
  },
  "kernelspec": {
   "display_name": "Python 3.9.0 64-bit",
   "language": "python",
   "name": "python3"
  },
  "language_info": {
   "codemirror_mode": {
    "name": "ipython",
    "version": 3
   },
   "file_extension": ".py",
   "mimetype": "text/x-python",
   "name": "python",
   "nbconvert_exporter": "python",
   "pygments_lexer": "ipython3",
   "version": "3.9.0"
  },
  "orig_nbformat": 4
 },
 "nbformat": 4,
 "nbformat_minor": 2
}
