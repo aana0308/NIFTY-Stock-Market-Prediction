{
 "cells": [
  {
   "cell_type": "code",
   "execution_count": 1,
   "metadata": {},
   "outputs": [],
   "source": [
    "import numpy as np\n",
    "import pandas as pd\n",
    "import matplotlib.pyplot as plt\n",
    "import pandas_datareader as data\n",
    "from keras.models import load_model"
   ]
  },
  {
   "cell_type": "code",
   "execution_count": 2,
   "metadata": {},
   "outputs": [
    {
     "data": {
      "text/html": [
       "<div>\n",
       "<style scoped>\n",
       "    .dataframe tbody tr th:only-of-type {\n",
       "        vertical-align: middle;\n",
       "    }\n",
       "\n",
       "    .dataframe tbody tr th {\n",
       "        vertical-align: top;\n",
       "    }\n",
       "\n",
       "    .dataframe thead th {\n",
       "        text-align: right;\n",
       "    }\n",
       "</style>\n",
       "<table border=\"1\" class=\"dataframe\">\n",
       "  <thead>\n",
       "    <tr style=\"text-align: right;\">\n",
       "      <th></th>\n",
       "      <th>High</th>\n",
       "      <th>Low</th>\n",
       "      <th>Open</th>\n",
       "      <th>Close</th>\n",
       "      <th>Volume</th>\n",
       "      <th>Adj Close</th>\n",
       "    </tr>\n",
       "  </thead>\n",
       "  <tbody>\n",
       "    <tr>\n",
       "      <th>count</th>\n",
       "      <td>2975.000000</td>\n",
       "      <td>2975.000000</td>\n",
       "      <td>2975.000000</td>\n",
       "      <td>2975.000000</td>\n",
       "      <td>2.975000e+03</td>\n",
       "      <td>2975.000000</td>\n",
       "    </tr>\n",
       "    <tr>\n",
       "      <th>mean</th>\n",
       "      <td>227.838044</td>\n",
       "      <td>219.826259</td>\n",
       "      <td>224.044897</td>\n",
       "      <td>223.715536</td>\n",
       "      <td>2.892930e+06</td>\n",
       "      <td>215.924655</td>\n",
       "    </tr>\n",
       "    <tr>\n",
       "      <th>std</th>\n",
       "      <td>108.889224</td>\n",
       "      <td>106.710059</td>\n",
       "      <td>108.027073</td>\n",
       "      <td>107.883875</td>\n",
       "      <td>3.051564e+06</td>\n",
       "      <td>107.171310</td>\n",
       "    </tr>\n",
       "    <tr>\n",
       "      <th>min</th>\n",
       "      <td>52.509998</td>\n",
       "      <td>50.730000</td>\n",
       "      <td>51.400002</td>\n",
       "      <td>51.590000</td>\n",
       "      <td>0.000000e+00</td>\n",
       "      <td>47.914730</td>\n",
       "    </tr>\n",
       "    <tr>\n",
       "      <th>25%</th>\n",
       "      <td>137.399994</td>\n",
       "      <td>131.224998</td>\n",
       "      <td>134.974998</td>\n",
       "      <td>134.699997</td>\n",
       "      <td>1.229062e+06</td>\n",
       "      <td>127.339039</td>\n",
       "    </tr>\n",
       "    <tr>\n",
       "      <th>50%</th>\n",
       "      <td>174.699997</td>\n",
       "      <td>166.000000</td>\n",
       "      <td>170.000000</td>\n",
       "      <td>170.100006</td>\n",
       "      <td>2.194030e+06</td>\n",
       "      <td>160.389343</td>\n",
       "    </tr>\n",
       "    <tr>\n",
       "      <th>75%</th>\n",
       "      <td>331.649994</td>\n",
       "      <td>320.549988</td>\n",
       "      <td>326.100006</td>\n",
       "      <td>325.650009</td>\n",
       "      <td>3.573876e+06</td>\n",
       "      <td>316.826416</td>\n",
       "    </tr>\n",
       "    <tr>\n",
       "      <th>max</th>\n",
       "      <td>452.350006</td>\n",
       "      <td>434.799988</td>\n",
       "      <td>450.000000</td>\n",
       "      <td>448.750000</td>\n",
       "      <td>6.260449e+07</td>\n",
       "      <td>438.315674</td>\n",
       "    </tr>\n",
       "  </tbody>\n",
       "</table>\n",
       "</div>"
      ],
      "text/plain": [
       "              High          Low         Open        Close        Volume  \\\n",
       "count  2975.000000  2975.000000  2975.000000  2975.000000  2.975000e+03   \n",
       "mean    227.838044   219.826259   224.044897   223.715536  2.892930e+06   \n",
       "std     108.889224   106.710059   108.027073   107.883875  3.051564e+06   \n",
       "min      52.509998    50.730000    51.400002    51.590000  0.000000e+00   \n",
       "25%     137.399994   131.224998   134.974998   134.699997  1.229062e+06   \n",
       "50%     174.699997   166.000000   170.000000   170.100006  2.194030e+06   \n",
       "75%     331.649994   320.549988   326.100006   325.650009  3.573876e+06   \n",
       "max     452.350006   434.799988   450.000000   448.750000  6.260449e+07   \n",
       "\n",
       "         Adj Close  \n",
       "count  2975.000000  \n",
       "mean    215.924655  \n",
       "std     107.171310  \n",
       "min      47.914730  \n",
       "25%     127.339039  \n",
       "50%     160.389343  \n",
       "75%     316.826416  \n",
       "max     438.315674  "
      ]
     },
     "execution_count": 2,
     "metadata": {},
     "output_type": "execute_result"
    }
   ],
   "source": [
    "start='2001-01-01'\n",
    "end='2020-01-01'\n",
    "user_input=input(\"Stock Name:\")\n",
    "df = data.DataReader(user_input,'yahoo',start,end)\n",
    "df.head()\n",
    "df.describe()"
   ]
  },
  {
   "cell_type": "code",
   "execution_count": 3,
   "metadata": {},
   "outputs": [
    {
     "data": {
      "text/html": [
       "<div>\n",
       "<style scoped>\n",
       "    .dataframe tbody tr th:only-of-type {\n",
       "        vertical-align: middle;\n",
       "    }\n",
       "\n",
       "    .dataframe tbody tr th {\n",
       "        vertical-align: top;\n",
       "    }\n",
       "\n",
       "    .dataframe thead th {\n",
       "        text-align: right;\n",
       "    }\n",
       "</style>\n",
       "<table border=\"1\" class=\"dataframe\">\n",
       "  <thead>\n",
       "    <tr style=\"text-align: right;\">\n",
       "      <th></th>\n",
       "      <th>High</th>\n",
       "      <th>Low</th>\n",
       "      <th>Open</th>\n",
       "      <th>Close</th>\n",
       "      <th>Volume</th>\n",
       "      <th>Adj Close</th>\n",
       "    </tr>\n",
       "    <tr>\n",
       "      <th>Date</th>\n",
       "      <th></th>\n",
       "      <th></th>\n",
       "      <th></th>\n",
       "      <th></th>\n",
       "      <th></th>\n",
       "      <th></th>\n",
       "    </tr>\n",
       "  </thead>\n",
       "  <tbody>\n",
       "    <tr>\n",
       "      <th>2019-12-26</th>\n",
       "      <td>370.600006</td>\n",
       "      <td>362.100006</td>\n",
       "      <td>368.799988</td>\n",
       "      <td>363.649994</td>\n",
       "      <td>2503435.0</td>\n",
       "      <td>357.172729</td>\n",
       "    </tr>\n",
       "    <tr>\n",
       "      <th>2019-12-27</th>\n",
       "      <td>367.899994</td>\n",
       "      <td>362.799988</td>\n",
       "      <td>366.750000</td>\n",
       "      <td>363.700012</td>\n",
       "      <td>2146972.0</td>\n",
       "      <td>357.221863</td>\n",
       "    </tr>\n",
       "    <tr>\n",
       "      <th>2019-12-30</th>\n",
       "      <td>371.000000</td>\n",
       "      <td>363.750000</td>\n",
       "      <td>371.000000</td>\n",
       "      <td>365.950012</td>\n",
       "      <td>4732203.0</td>\n",
       "      <td>359.431763</td>\n",
       "    </tr>\n",
       "    <tr>\n",
       "      <th>2019-12-31</th>\n",
       "      <td>368.649994</td>\n",
       "      <td>364.899994</td>\n",
       "      <td>366.000000</td>\n",
       "      <td>366.000000</td>\n",
       "      <td>2043206.0</td>\n",
       "      <td>359.480896</td>\n",
       "    </tr>\n",
       "    <tr>\n",
       "      <th>2020-01-01</th>\n",
       "      <td>379.250000</td>\n",
       "      <td>366.000000</td>\n",
       "      <td>368.000000</td>\n",
       "      <td>377.649994</td>\n",
       "      <td>11377167.0</td>\n",
       "      <td>370.923370</td>\n",
       "    </tr>\n",
       "  </tbody>\n",
       "</table>\n",
       "</div>"
      ],
      "text/plain": [
       "                  High         Low        Open       Close      Volume  \\\n",
       "Date                                                                     \n",
       "2019-12-26  370.600006  362.100006  368.799988  363.649994   2503435.0   \n",
       "2019-12-27  367.899994  362.799988  366.750000  363.700012   2146972.0   \n",
       "2019-12-30  371.000000  363.750000  371.000000  365.950012   4732203.0   \n",
       "2019-12-31  368.649994  364.899994  366.000000  366.000000   2043206.0   \n",
       "2020-01-01  379.250000  366.000000  368.000000  377.649994  11377167.0   \n",
       "\n",
       "             Adj Close  \n",
       "Date                    \n",
       "2019-12-26  357.172729  \n",
       "2019-12-27  357.221863  \n",
       "2019-12-30  359.431763  \n",
       "2019-12-31  359.480896  \n",
       "2020-01-01  370.923370  "
      ]
     },
     "execution_count": 3,
     "metadata": {},
     "output_type": "execute_result"
    }
   ],
   "source": [
    "df.tail()"
   ]
  },
  {
   "cell_type": "code",
   "execution_count": 4,
   "metadata": {},
   "outputs": [
    {
     "data": {
      "text/html": [
       "<div>\n",
       "<style scoped>\n",
       "    .dataframe tbody tr th:only-of-type {\n",
       "        vertical-align: middle;\n",
       "    }\n",
       "\n",
       "    .dataframe tbody tr th {\n",
       "        vertical-align: top;\n",
       "    }\n",
       "\n",
       "    .dataframe thead th {\n",
       "        text-align: right;\n",
       "    }\n",
       "</style>\n",
       "<table border=\"1\" class=\"dataframe\">\n",
       "  <thead>\n",
       "    <tr style=\"text-align: right;\">\n",
       "      <th></th>\n",
       "      <th>Date</th>\n",
       "      <th>High</th>\n",
       "      <th>Low</th>\n",
       "      <th>Open</th>\n",
       "      <th>Close</th>\n",
       "      <th>Volume</th>\n",
       "      <th>Adj Close</th>\n",
       "    </tr>\n",
       "  </thead>\n",
       "  <tbody>\n",
       "    <tr>\n",
       "      <th>0</th>\n",
       "      <td>2007-11-27</td>\n",
       "      <td>207.000000</td>\n",
       "      <td>154.000000</td>\n",
       "      <td>154.000000</td>\n",
       "      <td>191.800003</td>\n",
       "      <td>27262365.0</td>\n",
       "      <td>177.675125</td>\n",
       "    </tr>\n",
       "    <tr>\n",
       "      <th>1</th>\n",
       "      <td>2007-11-28</td>\n",
       "      <td>197.800003</td>\n",
       "      <td>174.929993</td>\n",
       "      <td>194.000000</td>\n",
       "      <td>177.000000</td>\n",
       "      <td>21958915.0</td>\n",
       "      <td>163.965057</td>\n",
       "    </tr>\n",
       "    <tr>\n",
       "      <th>2</th>\n",
       "      <td>2007-11-29</td>\n",
       "      <td>182.800003</td>\n",
       "      <td>168.460007</td>\n",
       "      <td>181.000000</td>\n",
       "      <td>177.399994</td>\n",
       "      <td>25616715.0</td>\n",
       "      <td>164.335587</td>\n",
       "    </tr>\n",
       "    <tr>\n",
       "      <th>3</th>\n",
       "      <td>2007-11-30</td>\n",
       "      <td>191.399994</td>\n",
       "      <td>178.000000</td>\n",
       "      <td>178.000000</td>\n",
       "      <td>185.800003</td>\n",
       "      <td>23047035.0</td>\n",
       "      <td>172.116974</td>\n",
       "    </tr>\n",
       "    <tr>\n",
       "      <th>4</th>\n",
       "      <td>2007-12-03</td>\n",
       "      <td>198.860001</td>\n",
       "      <td>184.399994</td>\n",
       "      <td>187.949997</td>\n",
       "      <td>196.000000</td>\n",
       "      <td>14578850.0</td>\n",
       "      <td>181.565811</td>\n",
       "    </tr>\n",
       "  </tbody>\n",
       "</table>\n",
       "</div>"
      ],
      "text/plain": [
       "        Date        High         Low        Open       Close      Volume  \\\n",
       "0 2007-11-27  207.000000  154.000000  154.000000  191.800003  27262365.0   \n",
       "1 2007-11-28  197.800003  174.929993  194.000000  177.000000  21958915.0   \n",
       "2 2007-11-29  182.800003  168.460007  181.000000  177.399994  25616715.0   \n",
       "3 2007-11-30  191.399994  178.000000  178.000000  185.800003  23047035.0   \n",
       "4 2007-12-03  198.860001  184.399994  187.949997  196.000000  14578850.0   \n",
       "\n",
       "    Adj Close  \n",
       "0  177.675125  \n",
       "1  163.965057  \n",
       "2  164.335587  \n",
       "3  172.116974  \n",
       "4  181.565811  "
      ]
     },
     "execution_count": 4,
     "metadata": {},
     "output_type": "execute_result"
    }
   ],
   "source": [
    "df=df.reset_index()\n",
    "df.head()"
   ]
  },
  {
   "cell_type": "code",
   "execution_count": 5,
   "metadata": {},
   "outputs": [
    {
     "data": {
      "text/html": [
       "<div>\n",
       "<style scoped>\n",
       "    .dataframe tbody tr th:only-of-type {\n",
       "        vertical-align: middle;\n",
       "    }\n",
       "\n",
       "    .dataframe tbody tr th {\n",
       "        vertical-align: top;\n",
       "    }\n",
       "\n",
       "    .dataframe thead th {\n",
       "        text-align: right;\n",
       "    }\n",
       "</style>\n",
       "<table border=\"1\" class=\"dataframe\">\n",
       "  <thead>\n",
       "    <tr style=\"text-align: right;\">\n",
       "      <th></th>\n",
       "      <th>High</th>\n",
       "      <th>Low</th>\n",
       "      <th>Open</th>\n",
       "      <th>Close</th>\n",
       "      <th>Volume</th>\n",
       "    </tr>\n",
       "  </thead>\n",
       "  <tbody>\n",
       "    <tr>\n",
       "      <th>0</th>\n",
       "      <td>207.000000</td>\n",
       "      <td>154.000000</td>\n",
       "      <td>154.000000</td>\n",
       "      <td>191.800003</td>\n",
       "      <td>27262365.0</td>\n",
       "    </tr>\n",
       "    <tr>\n",
       "      <th>1</th>\n",
       "      <td>197.800003</td>\n",
       "      <td>174.929993</td>\n",
       "      <td>194.000000</td>\n",
       "      <td>177.000000</td>\n",
       "      <td>21958915.0</td>\n",
       "    </tr>\n",
       "    <tr>\n",
       "      <th>2</th>\n",
       "      <td>182.800003</td>\n",
       "      <td>168.460007</td>\n",
       "      <td>181.000000</td>\n",
       "      <td>177.399994</td>\n",
       "      <td>25616715.0</td>\n",
       "    </tr>\n",
       "    <tr>\n",
       "      <th>3</th>\n",
       "      <td>191.399994</td>\n",
       "      <td>178.000000</td>\n",
       "      <td>178.000000</td>\n",
       "      <td>185.800003</td>\n",
       "      <td>23047035.0</td>\n",
       "    </tr>\n",
       "    <tr>\n",
       "      <th>4</th>\n",
       "      <td>198.860001</td>\n",
       "      <td>184.399994</td>\n",
       "      <td>187.949997</td>\n",
       "      <td>196.000000</td>\n",
       "      <td>14578850.0</td>\n",
       "    </tr>\n",
       "  </tbody>\n",
       "</table>\n",
       "</div>"
      ],
      "text/plain": [
       "         High         Low        Open       Close      Volume\n",
       "0  207.000000  154.000000  154.000000  191.800003  27262365.0\n",
       "1  197.800003  174.929993  194.000000  177.000000  21958915.0\n",
       "2  182.800003  168.460007  181.000000  177.399994  25616715.0\n",
       "3  191.399994  178.000000  178.000000  185.800003  23047035.0\n",
       "4  198.860001  184.399994  187.949997  196.000000  14578850.0"
      ]
     },
     "execution_count": 5,
     "metadata": {},
     "output_type": "execute_result"
    }
   ],
   "source": [
    "df=df.drop(['Date','Adj Close'],axis=1)\n",
    "df.head()"
   ]
  },
  {
   "cell_type": "code",
   "execution_count": 6,
   "metadata": {},
   "outputs": [
    {
     "data": {
      "text/plain": [
       "[<matplotlib.lines.Line2D at 0x2246a685340>]"
      ]
     },
     "execution_count": 6,
     "metadata": {},
     "output_type": "execute_result"
    },
    {
     "data": {
      "image/png": "[encoded data removed]",
      "text/plain": [
       "<Figure size 432x288 with 1 Axes>"
      ]
     },
     "metadata": {
      "needs_background": "light"
     },
     "output_type": "display_data"
    }
   ],
   "source": [
    "plt.plot(df.Close)"
   ]
  },
  {
   "cell_type": "code",
   "execution_count": 7,
   "metadata": {},
   "outputs": [
    {
     "data": {
      "text/plain": [
       "0              NaN\n",
       "1              NaN\n",
       "2              NaN\n",
       "3              NaN\n",
       "4              NaN\n",
       "           ...    \n",
       "2970    379.638502\n",
       "2971    379.537002\n",
       "2972    379.462002\n",
       "2973    379.346502\n",
       "2974    379.412002\n",
       "Name: Close, Length: 2975, dtype: float64"
      ]
     },
     "execution_count": 7,
     "metadata": {},
     "output_type": "execute_result"
    }
   ],
   "source": [
    "ma100=df.Close.rolling(100).mean()\n",
    "ma100"
   ]
  },
  {
   "cell_type": "code",
   "execution_count": 8,
   "metadata": {},
   "outputs": [
    {
     "data": {
      "text/plain": [
       "[<matplotlib.lines.Line2D at 0x2246a58d310>]"
      ]
     },
     "execution_count": 8,
     "metadata": {},
     "output_type": "execute_result"
    },
    {
     "data": {
      "image/png": "[encoded data removed]",
      "text/plain": [
       "<Figure size 864x432 with 1 Axes>"
      ]
     },
     "metadata": {
      "needs_background": "light"
     },
     "output_type": "display_data"
    }
   ],
   "source": [
    "plt.figure(figsize= (12,6))\n",
    "plt.plot(df.Close)\n",
    "plt.plot(ma100,'r')"
   ]
  },
  {
   "cell_type": "code",
   "execution_count": 9,
   "metadata": {},
   "outputs": [
    {
     "data": {
      "text/plain": [
       "0             NaN\n",
       "1             NaN\n",
       "2             NaN\n",
       "3             NaN\n",
       "4             NaN\n",
       "          ...    \n",
       "2970    384.76400\n",
       "2971    384.95625\n",
       "2972    385.15675\n",
       "2973    385.32075\n",
       "2974    385.51275\n",
       "Name: Close, Length: 2975, dtype: float64"
      ]
     },
     "execution_count": 9,
     "metadata": {},
     "output_type": "execute_result"
    }
   ],
   "source": [
    "ma200=df.Close.rolling(200).mean()\n",
    "ma200"
   ]
  },
  {
   "cell_type": "code",
   "execution_count": 10,
   "metadata": {},
   "outputs": [
    {
     "data": {
      "text/plain": [
       "[<matplotlib.lines.Line2D at 0x2246a5febe0>]"
      ]
     },
     "execution_count": 10,
     "metadata": {},
     "output_type": "execute_result"
    },
    {
     "data": {
      "image/png": "[encoded data removed]",
      "text/plain": [
       "<Figure size 864x432 with 1 Axes>"
      ]
     },
     "metadata": {
      "needs_background": "light"
     },
     "output_type": "display_data"
    }
   ],
   "source": [
    "plt.figure(figsize= (12,6))\n",
    "plt.plot(df.Close)\n",
    "plt.plot(ma100,'r')\n",
    "plt.plot(ma200,'g')"
   ]
  },
  {
   "cell_type": "code",
   "execution_count": 11,
   "metadata": {},
   "outputs": [
    {
     "data": {
      "text/plain": [
       "(2975, 5)"
      ]
     },
     "execution_count": 11,
     "metadata": {},
     "output_type": "execute_result"
    }
   ],
   "source": [
    "df.shape"
   ]
  },
  {
   "cell_type": "code",
   "execution_count": 12,
   "metadata": {},
   "outputs": [
    {
     "name": "stdout",
     "output_type": "stream",
     "text": [
      "(2082, 1)\n",
      "(893, 1)\n"
     ]
    }
   ],
   "source": [
    "# Splitting the data set into training and testing data\n",
    "data_training=pd.DataFrame(df['Close'][0:int(len(df)*0.70)])\n",
    "data_testing=pd.DataFrame(df['Close'][int(len(df)*0.70):int(len(df))])\n",
    "\n",
    "print(data_training.shape)\n",
    "print(data_testing.shape)"
   ]
  },
  {
   "cell_type": "code",
   "execution_count": 13,
   "metadata": {},
   "outputs": [],
   "source": [
    "from sklearn.preprocessing import MinMaxScaler\n",
    "scaler=MinMaxScaler(feature_range=(0,1))"
   ]
  },
  {
   "cell_type": "code",
   "execution_count": 14,
   "metadata": {},
   "outputs": [
    {
     "data": {
      "text/plain": [
       "array([[0.44235868],\n",
       "       [0.39566508],\n",
       "       [0.39692705],\n",
       "       ...,\n",
       "       [0.43210502],\n",
       "       [0.42342885],\n",
       "       [0.41538366]])"
      ]
     },
     "execution_count": 14,
     "metadata": {},
     "output_type": "execute_result"
    }
   ],
   "source": [
    "data_training_array= scaler.fit_transform(data_training)\n",
    "data_training_array"
   ]
  },
  {
   "cell_type": "code",
   "execution_count": 15,
   "metadata": {},
   "outputs": [],
   "source": [
    "x_train=[]\n",
    "y_train=[]\n",
    "for  i in range(100, data_training_array.shape[0]):\n",
    "    x_train.append(data_training_array[i-100: i])\n",
    "    y_train.append(data_training_array[i,0])\n",
    "x_train, y_train=np.array(x_train),np.array(y_train)"
   ]
  },
  {
   "cell_type": "code",
   "execution_count": 16,
   "metadata": {},
   "outputs": [],
   "source": [
    "from keras.layers import Dense ,Dropout ,LSTM\n",
    "from keras.models import Sequential\n"
   ]
  },
  {
   "cell_type": "code",
   "execution_count": 17,
   "metadata": {},
   "outputs": [],
   "source": [
    "model=Sequential()\n",
    "model.add(LSTM(units=50,activation='relu',return_sequences=True,input_shape=(x_train.shape[1],1)))\n",
    "model.add(Dropout(0.2))\n",
    "\n",
    "model.add(LSTM(units=60,activation='relu',return_sequences=True))\n",
    "model.add(Dropout(0.3))\n",
    "\n",
    "model.add(LSTM(units=80,activation='relu',return_sequences=True))\n",
    "model.add(Dropout(0.4))\n",
    "\n",
    "model.add(LSTM(units=120,activation='relu'))\n",
    "model.add(Dropout(0.5))\n",
    "\n",
    "model.add(Dense(units=1))\n"
   ]
  },
  {
   "cell_type": "code",
   "execution_count": 18,
   "metadata": {},
   "outputs": [
    {
     "name": "stdout",
     "output_type": "stream",
     "text": [
      "Model: \"sequential\"\n",
      "_________________________________________________________________\n",
      " Layer (type)                Output Shape              Param #   \n",
      "=================================================================\n",
      " lstm (LSTM)                 (None, 100, 50)           10400     \n",
      "                                                                 \n",
      " dropout (Dropout)           (None, 100, 50)           0         \n",
      "                                                                 \n",
      " lstm_1 (LSTM)               (None, 100, 60)           26640     \n",
      "                                                                 \n",
      " dropout_1 (Dropout)         (None, 100, 60)           0         \n",
      "                                                                 \n",
      " lstm_2 (LSTM)               (None, 100, 80)           45120     \n",
      "                                                                 \n",
      " dropout_2 (Dropout)         (None, 100, 80)           0         \n",
      "                                                                 \n",
      " lstm_3 (LSTM)               (None, 120)               96480     \n",
      "                                                                 \n",
      " dropout_3 (Dropout)         (None, 120)               0         \n",
      "                                                                 \n",
      " dense (Dense)               (None, 1)                 121       \n",
      "                                                                 \n",
      "=================================================================\n",
      "Total params: 178,761\n",
      "Trainable params: 178,761\n",
      "Non-trainable params: 0\n",
      "_________________________________________________________________\n"
     ]
    }
   ],
   "source": [
    "model.summary()"
   ]
  },
  {
   "cell_type": "code",
   "execution_count": 19,
   "metadata": {},
   "outputs": [
    {
     "name": "stdout",
     "output_type": "stream",
     "text": [
      "Epoch 1/50\n",
      "62/62 [==============================] - 21s 207ms/step - loss: 0.0339\n",
      "Epoch 2/50\n",
      "62/62 [==============================] - 13s 203ms/step - loss: 0.0082\n",
      "Epoch 3/50\n",
      "62/62 [==============================] - 12s 201ms/step - loss: 0.0079\n",
      "Epoch 4/50\n",
      "62/62 [==============================] - 12s 201ms/step - loss: 0.0068\n",
      "Epoch 5/50\n",
      "62/62 [==============================] - 14s 225ms/step - loss: 0.0070\n",
      "Epoch 6/50\n",
      "62/62 [==============================] - 12s 200ms/step - loss: 0.0066\n",
      "Epoch 7/50\n",
      "62/62 [==============================] - 12s 201ms/step - loss: 0.0054\n",
      "Epoch 8/50\n",
      "62/62 [==============================] - 13s 202ms/step - loss: 0.0062\n",
      "Epoch 9/50\n",
      "62/62 [==============================] - 12s 201ms/step - loss: 0.0049\n",
      "Epoch 10/50\n",
      "62/62 [==============================] - 13s 205ms/step - loss: 0.0050\n",
      "Epoch 11/50\n",
      "62/62 [==============================] - 12s 200ms/step - loss: 0.0050\n",
      "Epoch 12/50\n",
      "62/62 [==============================] - 12s 200ms/step - loss: 0.0048\n",
      "Epoch 13/50\n",
      "62/62 [==============================] - 12s 199ms/step - loss: 0.0048\n",
      "Epoch 14/50\n",
      "62/62 [==============================] - 12s 200ms/step - loss: 0.0041\n",
      "Epoch 15/50\n",
      "62/62 [==============================] - 12s 201ms/step - loss: 0.0041\n",
      "Epoch 16/50\n",
      "62/62 [==============================] - 12s 200ms/step - loss: 0.0038\n",
      "Epoch 17/50\n",
      "62/62 [==============================] - 12s 200ms/step - loss: 0.0039\n",
      "Epoch 18/50\n",
      "62/62 [==============================] - 15s 247ms/step - loss: 0.0036\n",
      "Epoch 19/50\n",
      "62/62 [==============================] - 13s 216ms/step - loss: 0.0034\n",
      "Epoch 20/50\n",
      "62/62 [==============================] - 12s 198ms/step - loss: 0.0035\n",
      "Epoch 21/50\n",
      "62/62 [==============================] - 13s 209ms/step - loss: 0.0035\n",
      "Epoch 22/50\n",
      "62/62 [==============================] - 14s 224ms/step - loss: 0.0036\n",
      "Epoch 23/50\n",
      "62/62 [==============================] - 12s 200ms/step - loss: 0.0034\n",
      "Epoch 24/50\n",
      "62/62 [==============================] - 12s 199ms/step - loss: 0.0034\n",
      "Epoch 25/50\n",
      "62/62 [==============================] - 12s 199ms/step - loss: 0.0034\n",
      "Epoch 26/50\n",
      "62/62 [==============================] - 12s 198ms/step - loss: 0.0030\n",
      "Epoch 27/50\n",
      "62/62 [==============================] - 12s 200ms/step - loss: 0.0031\n",
      "Epoch 28/50\n",
      "62/62 [==============================] - 13s 209ms/step - loss: 0.0029\n",
      "Epoch 29/50\n",
      "62/62 [==============================] - 12s 198ms/step - loss: 0.0029\n",
      "Epoch 30/50\n",
      "62/62 [==============================] - 12s 199ms/step - loss: 0.0030\n",
      "Epoch 31/50\n",
      "62/62 [==============================] - 12s 196ms/step - loss: 0.0028\n",
      "Epoch 32/50\n",
      "62/62 [==============================] - 12s 197ms/step - loss: 0.0028\n",
      "Epoch 33/50\n",
      "62/62 [==============================] - 12s 198ms/step - loss: 0.0030\n",
      "Epoch 34/50\n",
      "62/62 [==============================] - 13s 209ms/step - loss: 0.0025\n",
      "Epoch 35/50\n",
      "62/62 [==============================] - 12s 199ms/step - loss: 0.0028\n",
      "Epoch 36/50\n",
      "62/62 [==============================] - 12s 198ms/step - loss: 0.0024\n",
      "Epoch 37/50\n",
      "62/62 [==============================] - 12s 196ms/step - loss: 0.0027\n",
      "Epoch 38/50\n",
      "62/62 [==============================] - 13s 203ms/step - loss: 0.0028\n",
      "Epoch 39/50\n",
      "62/62 [==============================] - 14s 231ms/step - loss: 0.0027\n",
      "Epoch 40/50\n",
      "62/62 [==============================] - 12s 186ms/step - loss: 0.0025\n",
      "Epoch 41/50\n",
      "62/62 [==============================] - 11s 184ms/step - loss: 0.0028\n",
      "Epoch 42/50\n",
      "62/62 [==============================] - 13s 204ms/step - loss: 0.0028\n",
      "Epoch 43/50\n",
      "62/62 [==============================] - 13s 205ms/step - loss: 0.0024\n",
      "Epoch 44/50\n",
      "62/62 [==============================] - 12s 186ms/step - loss: 0.0024\n",
      "Epoch 45/50\n",
      "62/62 [==============================] - 12s 187ms/step - loss: 0.0023\n",
      "Epoch 46/50\n",
      "62/62 [==============================] - 11s 185ms/step - loss: 0.0023\n",
      "Epoch 47/50\n",
      "62/62 [==============================] - 11s 185ms/step - loss: 0.0024\n",
      "Epoch 48/50\n",
      "62/62 [==============================] - 12s 186ms/step - loss: 0.0025\n",
      "Epoch 49/50\n",
      "62/62 [==============================] - 12s 186ms/step - loss: 0.0025\n",
      "Epoch 50/50\n",
      "62/62 [==============================] - 12s 187ms/step - loss: 0.0025\n"
     ]
    },
    {
     "data": {
      "text/plain": [
       "<keras.callbacks.History at 0x2246e7bc6a0>"
      ]
     },
     "execution_count": 19,
     "metadata": {},
     "output_type": "execute_result"
    }
   ],
   "source": [
    "model.compile(optimizer='adam',loss='mean_squared_error')\n",
    "model.fit(x_train,y_train,epochs=50)"
   ]
  },
  {
   "cell_type": "code",
   "execution_count": 20,
   "metadata": {},
   "outputs": [],
   "source": [
    "model.save('keras_model.h5')"
   ]
  },
  {
   "cell_type": "code",
   "execution_count": 21,
   "metadata": {},
   "outputs": [
    {
     "data": {
      "text/html": [
       "<div>\n",
       "<style scoped>\n",
       "    .dataframe tbody tr th:only-of-type {\n",
       "        vertical-align: middle;\n",
       "    }\n",
       "\n",
       "    .dataframe tbody tr th {\n",
       "        vertical-align: top;\n",
       "    }\n",
       "\n",
       "    .dataframe thead th {\n",
       "        text-align: right;\n",
       "    }\n",
       "</style>\n",
       "<table border=\"1\" class=\"dataframe\">\n",
       "  <thead>\n",
       "    <tr style=\"text-align: right;\">\n",
       "      <th></th>\n",
       "      <th>Close</th>\n",
       "    </tr>\n",
       "  </thead>\n",
       "  <tbody>\n",
       "    <tr>\n",
       "      <th>2082</th>\n",
       "      <td>183.199997</td>\n",
       "    </tr>\n",
       "    <tr>\n",
       "      <th>2083</th>\n",
       "      <td>171.550003</td>\n",
       "    </tr>\n",
       "    <tr>\n",
       "      <th>2084</th>\n",
       "      <td>177.949997</td>\n",
       "    </tr>\n",
       "    <tr>\n",
       "      <th>2085</th>\n",
       "      <td>181.100006</td>\n",
       "    </tr>\n",
       "    <tr>\n",
       "      <th>2086</th>\n",
       "      <td>180.850006</td>\n",
       "    </tr>\n",
       "  </tbody>\n",
       "</table>\n",
       "</div>"
      ],
      "text/plain": [
       "           Close\n",
       "2082  183.199997\n",
       "2083  171.550003\n",
       "2084  177.949997\n",
       "2085  181.100006\n",
       "2086  180.850006"
      ]
     },
     "execution_count": 21,
     "metadata": {},
     "output_type": "execute_result"
    }
   ],
   "source": [
    "data_testing.head()"
   ]
  },
  {
   "cell_type": "code",
   "execution_count": 22,
   "metadata": {},
   "outputs": [
    {
     "data": {
      "text/html": [
       "<div>\n",
       "<style scoped>\n",
       "    .dataframe tbody tr th:only-of-type {\n",
       "        vertical-align: middle;\n",
       "    }\n",
       "\n",
       "    .dataframe tbody tr th {\n",
       "        vertical-align: top;\n",
       "    }\n",
       "\n",
       "    .dataframe thead th {\n",
       "        text-align: right;\n",
       "    }\n",
       "</style>\n",
       "<table border=\"1\" class=\"dataframe\">\n",
       "  <thead>\n",
       "    <tr style=\"text-align: right;\">\n",
       "      <th></th>\n",
       "      <th>Close</th>\n",
       "    </tr>\n",
       "  </thead>\n",
       "  <tbody>\n",
       "    <tr>\n",
       "      <th>2077</th>\n",
       "      <td>193.000000</td>\n",
       "    </tr>\n",
       "    <tr>\n",
       "      <th>2078</th>\n",
       "      <td>195.149994</td>\n",
       "    </tr>\n",
       "    <tr>\n",
       "      <th>2079</th>\n",
       "      <td>188.550003</td>\n",
       "    </tr>\n",
       "    <tr>\n",
       "      <th>2080</th>\n",
       "      <td>185.800003</td>\n",
       "    </tr>\n",
       "    <tr>\n",
       "      <th>2081</th>\n",
       "      <td>183.250000</td>\n",
       "    </tr>\n",
       "  </tbody>\n",
       "</table>\n",
       "</div>"
      ],
      "text/plain": [
       "           Close\n",
       "2077  193.000000\n",
       "2078  195.149994\n",
       "2079  188.550003\n",
       "2080  185.800003\n",
       "2081  183.250000"
      ]
     },
     "execution_count": 22,
     "metadata": {},
     "output_type": "execute_result"
    }
   ],
   "source": [
    "data_training.tail()"
   ]
  },
  {
   "cell_type": "code",
   "execution_count": 23,
   "metadata": {},
   "outputs": [],
   "source": [
    "past_100_days=data_training.tail(100)"
   ]
  },
  {
   "cell_type": "code",
   "execution_count": 24,
   "metadata": {},
   "outputs": [
    {
     "name": "stderr",
     "output_type": "stream",
     "text": [
      "C:\\Users\\TASHMOY GHOSH\\AppData\\Local\\Temp\\ipykernel_19336\\3595571042.py:1: FutureWarning: The frame.append method is deprecated and will be removed from pandas in a future version. Use pandas.concat instead.\n",
      "  final_df=past_100_days.append(data_testing,ignore_index=True)\n"
     ]
    }
   ],
   "source": [
    "final_df=past_100_days.append(data_testing,ignore_index=True)"
   ]
  },
  {
   "cell_type": "code",
   "execution_count": 25,
   "metadata": {},
   "outputs": [
    {
     "data": {
      "text/html": [
       "<div>\n",
       "<style scoped>\n",
       "    .dataframe tbody tr th:only-of-type {\n",
       "        vertical-align: middle;\n",
       "    }\n",
       "\n",
       "    .dataframe tbody tr th {\n",
       "        vertical-align: top;\n",
       "    }\n",
       "\n",
       "    .dataframe thead th {\n",
       "        text-align: right;\n",
       "    }\n",
       "</style>\n",
       "<table border=\"1\" class=\"dataframe\">\n",
       "  <thead>\n",
       "    <tr style=\"text-align: right;\">\n",
       "      <th></th>\n",
       "      <th>Close</th>\n",
       "    </tr>\n",
       "  </thead>\n",
       "  <tbody>\n",
       "    <tr>\n",
       "      <th>0</th>\n",
       "      <td>260.200012</td>\n",
       "    </tr>\n",
       "    <tr>\n",
       "      <th>1</th>\n",
       "      <td>260.600006</td>\n",
       "    </tr>\n",
       "    <tr>\n",
       "      <th>2</th>\n",
       "      <td>257.600006</td>\n",
       "    </tr>\n",
       "    <tr>\n",
       "      <th>3</th>\n",
       "      <td>257.299988</td>\n",
       "    </tr>\n",
       "    <tr>\n",
       "      <th>4</th>\n",
       "      <td>258.100006</td>\n",
       "    </tr>\n",
       "  </tbody>\n",
       "</table>\n",
       "</div>"
      ],
      "text/plain": [
       "        Close\n",
       "0  260.200012\n",
       "1  260.600006\n",
       "2  257.600006\n",
       "3  257.299988\n",
       "4  258.100006"
      ]
     },
     "execution_count": 25,
     "metadata": {},
     "output_type": "execute_result"
    }
   ],
   "source": [
    "final_df.head()"
   ]
  },
  {
   "cell_type": "code",
   "execution_count": 26,
   "metadata": {},
   "outputs": [
    {
     "data": {
      "text/plain": [
       "array([[0.31980523],\n",
       "       [0.32124821],\n",
       "       [0.3104257 ],\n",
       "       [0.30934338],\n",
       "       [0.31222945],\n",
       "       [0.32629869],\n",
       "       [0.33189028],\n",
       "       [0.32539682],\n",
       "       [0.32233042],\n",
       "       [0.3463203 ]])"
      ]
     },
     "execution_count": 26,
     "metadata": {},
     "output_type": "execute_result"
    }
   ],
   "source": [
    "input_data=scaler.fit_transform(final_df)\n",
    "input_data[:10]"
   ]
  },
  {
   "cell_type": "code",
   "execution_count": 27,
   "metadata": {},
   "outputs": [
    {
     "data": {
      "text/plain": [
       "(993, 1)"
      ]
     },
     "execution_count": 27,
     "metadata": {},
     "output_type": "execute_result"
    }
   ],
   "source": [
    "input_data.shape"
   ]
  },
  {
   "cell_type": "code",
   "execution_count": 28,
   "metadata": {},
   "outputs": [
    {
     "name": "stdout",
     "output_type": "stream",
     "text": [
      "(893, 100, 1)\n",
      "(893,)\n"
     ]
    }
   ],
   "source": [
    "x_test=[]\n",
    "y_test=[]\n",
    "for  i in range(100, input_data.shape[0]):\n",
    "    x_test.append(input_data[i-100: i])\n",
    "    y_test.append(input_data[i,0])\n",
    "x_test, y_test=np.array(x_test),np.array(y_test)\n",
    "print(x_test.shape)\n",
    "print(y_test.shape)\n"
   ]
  },
  {
   "cell_type": "code",
   "execution_count": 29,
   "metadata": {},
   "outputs": [
    {
     "data": {
      "text/plain": [
       "(893, 1)"
      ]
     },
     "execution_count": 29,
     "metadata": {},
     "output_type": "execute_result"
    }
   ],
   "source": [
    "y_predicted=model.predict(x_test)\n",
    "y_predicted.shape"
   ]
  },
  {
   "cell_type": "code",
   "execution_count": 30,
   "metadata": {},
   "outputs": [
    {
     "data": {
      "text/plain": [
       "(893,)"
      ]
     },
     "execution_count": 30,
     "metadata": {},
     "output_type": "execute_result"
    }
   ],
   "source": [
    "y_test.shape"
   ]
  },
  {
   "cell_type": "code",
   "execution_count": 31,
   "metadata": {},
   "outputs": [
    {
     "data": {
      "text/plain": [
       "(893, 1)"
      ]
     },
     "execution_count": 31,
     "metadata": {},
     "output_type": "execute_result"
    }
   ],
   "source": [
    "y_predicted.shape"
   ]
  },
  {
   "cell_type": "code",
   "execution_count": 32,
   "metadata": {},
   "outputs": [
    {
     "data": {
      "text/plain": [
       "array([0.0036075])"
      ]
     },
     "execution_count": 32,
     "metadata": {},
     "output_type": "execute_result"
    }
   ],
   "source": [
    "scalar=scaler.scale_\n",
    "scalar"
   ]
  },
  {
   "cell_type": "code",
   "execution_count": 33,
   "metadata": {},
   "outputs": [],
   "source": [
    "scale_factor=1/(scalar[0])\n",
    "y_predicted=y_predicted*scale_factor\n",
    "y_test=y_test*scale_factor"
   ]
  },
  {
   "cell_type": "code",
   "execution_count": 34,
   "metadata": {},
   "outputs": [
    {
     "data": {
      "image/png": "[encoded data removed]",
      "text/plain": [
       "<Figure size 864x432 with 1 Axes>"
      ]
     },
     "metadata": {
      "needs_background": "light"
     },
     "output_type": "display_data"
    }
   ],
   "source": [
    "plt.figure(figsize=(12,6))\n",
    "plt.plot(y_test,'b',label='Original Price')\n",
    "plt.plot(y_predicted,'g',label='Predicted Price')\n",
    "plt.xlabel('Time')\n",
    "plt.ylabel('Price')\n",
    "plt.legend()\n",
    "plt.show()"
   ]
  }
 ],
 "metadata": {
  "interpreter": {
   "hash": "9a1a4feb060f566bd339f14e7294808cc99ae69d804ee3290ecb11606c62068a"
  },
  "kernelspec": {
   "display_name": "Python 3.9.0 64-bit",
   "language": "python",
   "name": "python3"
  },
  "language_info": {
   "codemirror_mode": {
    "name": "ipython",
    "version": 3
   },
   "file_extension": ".py",
   "mimetype": "text/x-python",
   "name": "python",
   "nbconvert_exporter": "python",
   "pygments_lexer": "ipython3",
   "version": "3.9.0"
  },
  "orig_nbformat": 4
 },
 "nbformat": 4,
 "nbformat_minor": 2
}
